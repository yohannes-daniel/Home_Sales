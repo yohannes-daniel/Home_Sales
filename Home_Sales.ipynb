{
  "cells": [
    {
      "cell_type": "code",
      "execution_count": 1,
      "metadata": {
        "colab": {
          "base_uri": "https://localhost:8080/"
        },
        "id": "a_KW73O2e3dw",
        "outputId": "cbbe1d25-b9aa-45eb-bdb4-c0cd40a4366b"
      },
      "outputs": [
        {
          "output_type": "stream",
          "name": "stdout",
          "text": [
            "\r0% [Working]\r            \rGet:1 https://cloud.r-project.org/bin/linux/ubuntu jammy-cran40/ InRelease [3,626 B]\n",
            "\r            \rGet:2 https://developer.download.nvidia.com/compute/cuda/repos/ubuntu2204/x86_64  InRelease [1,581 B]\n",
            "Hit:3 http://archive.ubuntu.com/ubuntu jammy InRelease\n",
            "Get:4 http://archive.ubuntu.com/ubuntu jammy-updates InRelease [119 kB]\n",
            "Get:5 http://archive.ubuntu.com/ubuntu jammy-backports InRelease [109 kB]\n",
            "Hit:6 https://ppa.launchpadcontent.net/c2d4u.team/c2d4u4.0+/ubuntu jammy InRelease\n",
            "Get:7 https://developer.download.nvidia.com/compute/cuda/repos/ubuntu2204/x86_64  Packages [518 kB]\n",
            "Get:8 http://security.ubuntu.com/ubuntu jammy-security InRelease [110 kB]\n",
            "Get:9 https://ppa.launchpadcontent.net/deadsnakes/ppa/ubuntu jammy InRelease [18.1 kB]\n",
            "Get:10 http://archive.ubuntu.com/ubuntu jammy-updates/restricted amd64 Packages [1,244 kB]\n",
            "Get:11 http://archive.ubuntu.com/ubuntu jammy-updates/universe amd64 Packages [1,266 kB]\n",
            "Get:12 http://archive.ubuntu.com/ubuntu jammy-updates/main amd64 Packages [1,337 kB]\n",
            "Hit:13 https://ppa.launchpadcontent.net/graphics-drivers/ppa/ubuntu jammy InRelease\n",
            "Hit:14 https://ppa.launchpadcontent.net/ubuntugis/ppa/ubuntu jammy InRelease\n",
            "Get:15 http://security.ubuntu.com/ubuntu jammy-security/restricted amd64 Packages [1,223 kB]\n",
            "Get:16 http://security.ubuntu.com/ubuntu jammy-security/universe amd64 Packages [1,002 kB]\n",
            "Get:17 http://security.ubuntu.com/ubuntu jammy-security/main amd64 Packages [1,078 kB]\n",
            "Get:18 https://ppa.launchpadcontent.net/deadsnakes/ppa/ubuntu jammy/main amd64 Packages [21.7 kB]\n",
            "Fetched 8,051 kB in 3s (2,310 kB/s)\n",
            "Reading package lists... Done\n"
          ]
        }
      ],
      "source": [
        "import os\n",
        "# Find the latest version of spark 3.x  from http://www.apache.org/dist/spark/ and enter as the spark version\n",
        "# For example:\n",
        "# spark_version = 'spark-3.4.0'\n",
        "spark_version = 'spark-3.4.1'\n",
        "os.environ['SPARK_VERSION']=spark_version\n",
        "\n",
        "# Install Spark and Java\n",
        "!apt-get update\n",
        "!apt-get install openjdk-11-jdk-headless -qq > /dev/null\n",
        "!wget -q http://www.apache.org/dist/spark/$SPARK_VERSION/$SPARK_VERSION-bin-hadoop3.tgz\n",
        "!tar xf $SPARK_VERSION-bin-hadoop3.tgz\n",
        "!pip install -q findspark\n",
        "\n",
        "# Set Environment Variables\n",
        "os.environ[\"JAVA_HOME\"] = \"/usr/lib/jvm/java-11-openjdk-amd64\"\n",
        "os.environ[\"SPARK_HOME\"] = f\"/content/{spark_version}-bin-hadoop3\"\n",
        "\n",
        "# Start a SparkSession\n",
        "import findspark\n",
        "findspark.init()"
      ]
    },
    {
      "cell_type": "code",
      "execution_count": 2,
      "metadata": {
        "id": "2XbWNf1Te5fM"
      },
      "outputs": [],
      "source": [
        "# Import packages\n",
        "from pyspark.sql import SparkSession\n",
        "import time\n",
        "\n",
        "# Create a SparkSession\n",
        "spark = SparkSession.builder.appName(\"SparkSQL\").getOrCreate()"
      ]
    },
    {
      "cell_type": "code",
      "execution_count": 3,
      "metadata": {
        "id": "wOJqxG_RPSwp"
      },
      "outputs": [],
      "source": [
        "# 1. Read in the AWS S3 bucket into a DataFrame.\n",
        "from pyspark import SparkFiles\n",
        "url = \"https://2u-data-curriculum-team.s3.amazonaws.com/dataviz-classroom/v1.2/22-big-data/home_sales_revised.csv\"\n",
        "spark.sparkContext.addFile(url)\n",
        "home_sales_df = spark.read.option('header', 'true').csv(SparkFiles.get(\"home_sales_revised.csv\"), inferSchema=True, sep=',', timestampFormat=\"yyyy-mm-dd\")\n"
      ]
    },
    {
      "cell_type": "code",
      "source": [
        "# Show the df\n",
        "home_sales_df.show()"
      ],
      "metadata": {
        "id": "Kwdks8ulx3D5",
        "colab": {
          "base_uri": "https://localhost:8080/"
        },
        "outputId": "4c5a9fb9-4ee4-480c-e557-e8a695da994c"
      },
      "execution_count": 4,
      "outputs": [
        {
          "output_type": "stream",
          "name": "stdout",
          "text": [
            "+--------------------+----------+----------+------+--------+---------+-----------+--------+------+----------+----+\n",
            "|                  id|      date|date_built| price|bedrooms|bathrooms|sqft_living|sqft_lot|floors|waterfront|view|\n",
            "+--------------------+----------+----------+------+--------+---------+-----------+--------+------+----------+----+\n",
            "|f8a53099-ba1c-47d...|2022-04-08|      2016|936923|       4|        3|       3167|   11733|     2|         1|  76|\n",
            "|7530a2d8-1ae3-451...|2021-06-13|      2013|379628|       2|        2|       2235|   14384|     1|         0|  23|\n",
            "|43de979c-0bf0-4c9...|2019-04-12|      2014|417866|       2|        2|       2127|   10575|     2|         0|   0|\n",
            "|b672c137-b88c-48b...|2019-10-16|      2016|239895|       2|        2|       1631|   11149|     2|         0|   0|\n",
            "|e0726d4d-d595-407...|2022-01-08|      2017|424418|       3|        2|       2249|   13878|     2|         0|   4|\n",
            "|5aa00529-0533-46b...|2019-01-30|      2017|218712|       2|        3|       1965|   14375|     2|         0|   7|\n",
            "|131492a1-72e2-4a8...|2020-02-08|      2017|419199|       2|        3|       2062|    8876|     2|         0|   6|\n",
            "|8d54a71b-c520-44e...|2019-07-21|      2010|323956|       2|        3|       1506|   11816|     1|         0|  25|\n",
            "|e81aacfe-17fe-46b...|2020-06-16|      2016|181925|       3|        3|       2137|   11709|     2|         0|  22|\n",
            "|2ed8d509-7372-46d...|2021-08-06|      2015|258710|       3|        3|       1918|    9666|     1|         0|  25|\n",
            "|f876d86f-3c9f-42b...|2019-02-27|      2011|167864|       3|        3|       2471|   13924|     2|         0|  15|\n",
            "|0a2bd445-8508-4d8...|2021-12-30|      2014|337527|       2|        3|       1926|   12556|     1|         0|  23|\n",
            "|941bad30-eb49-4a7...|2020-05-09|      2015|229896|       3|        3|       2197|    8641|     1|         0|   3|\n",
            "|dd61eb34-6589-4c0...|2021-07-25|      2016|210247|       3|        2|       1672|   11986|     2|         0|  28|\n",
            "|f1e4cef7-d151-439...|2019-02-01|      2011|398667|       2|        3|       2331|   11356|     1|         0|   7|\n",
            "|ea620c7b-c2f7-4c6...|2021-05-31|      2011|437958|       3|        3|       2356|   11052|     1|         0|  26|\n",
            "|f233cb41-6f33-4b0...|2021-07-18|      2016|437375|       4|        3|       1704|   11721|     2|         0|  34|\n",
            "|c797ca12-52cd-4b1...|2019-06-08|      2015|288650|       2|        3|       2100|   10419|     2|         0|   7|\n",
            "|0cfe57f3-28c2-472...|2019-10-04|      2015|308313|       3|        3|       1960|    9453|     2|         0|   2|\n",
            "|4566cd2a-ac6e-435...|2019-07-15|      2016|177541|       3|        3|       2130|   10517|     2|         0|  25|\n",
            "+--------------------+----------+----------+------+--------+---------+-----------+--------+------+----------+----+\n",
            "only showing top 20 rows\n",
            "\n"
          ]
        }
      ]
    },
    {
      "cell_type": "code",
      "execution_count": 5,
      "metadata": {
        "id": "RoljcJ7WPpnm"
      },
      "outputs": [],
      "source": [
        "# 2. Create a temporary view of the DataFrame.\n",
        "home_sales_df.createOrReplaceTempView('home_sales')\n"
      ]
    },
    {
      "cell_type": "code",
      "source": [
        "# 3. What is the average price for a four bedroom house sold in each year rounded to two decimal places?\n",
        "query_1 = \"\"\"\n",
        "SELECT YEAR(date) AS YEAR_BUILT, ROUND(AVG(price), 2) AS avg_price\n",
        "FROM home_sales\n",
        "WHERE bedrooms == 4\n",
        "GROUP BY YEAR_BUILT\n",
        "ORDER BY YEAR_BUILT\n",
        "\"\"\"\n",
        "spark.sql(query_1).show()"
      ],
      "metadata": {
        "id": "i6DJ1Dt1GAJi",
        "colab": {
          "base_uri": "https://localhost:8080/"
        },
        "outputId": "05ac4344-2c2e-48da-8949-4c2849f92a85"
      },
      "execution_count": 7,
      "outputs": [
        {
          "output_type": "stream",
          "name": "stdout",
          "text": [
            "+----------+---------+\n",
            "|YEAR_BUILT|avg_price|\n",
            "+----------+---------+\n",
            "|      2019| 300263.7|\n",
            "|      2020|298353.78|\n",
            "|      2021|301819.44|\n",
            "|      2022|296363.88|\n",
            "+----------+---------+\n",
            "\n"
          ]
        }
      ]
    },
    {
      "cell_type": "code",
      "source": [
        "# 4. What is the average price of a home for each year the home was built that have 3 bedrooms and 3 bathrooms rounded to two decimal places?\n",
        "query_2 = \"\"\"\n",
        "SELECT YEAR(date) AS YEAR_BUILT, ROUND(AVG(price), 2) AS avg_price\n",
        "FROM home_sales\n",
        "WHERE (bedrooms == 3 AND bathrooms == 3)\n",
        "GROUP BY YEAR_BUILT\n",
        "ORDER BY YEAR_BUILT\n",
        "\"\"\"\n",
        "spark.sql(query_2).show()"
      ],
      "metadata": {
        "id": "kJkUNYROJ8Jk",
        "colab": {
          "base_uri": "https://localhost:8080/"
        },
        "outputId": "8eec3050-5ebb-4379-ca8f-05742e51697e"
      },
      "execution_count": 8,
      "outputs": [
        {
          "output_type": "stream",
          "name": "stdout",
          "text": [
            "+----------+---------+\n",
            "|YEAR_BUILT|avg_price|\n",
            "+----------+---------+\n",
            "|      2019|287287.82|\n",
            "|      2020|294204.16|\n",
            "|      2021|294211.46|\n",
            "|      2022|292725.69|\n",
            "+----------+---------+\n",
            "\n"
          ]
        }
      ]
    },
    {
      "cell_type": "code",
      "source": [
        "# 5. What is the average price of a home for each year built that have 3 bedrooms, 3 bathrooms, with two floors,\n",
        "# and are greater than or equal to 2,000 square feet rounded to two decimal places?\n",
        "query_3 = \"\"\"\n",
        "SELECT YEAR(date) AS YEAR_BUILT, ROUND(AVG(price), 2) AS avg_price\n",
        "FROM home_sales\n",
        "WHERE (bedrooms == 3 AND bathrooms == 3 AND floors == 2 AND sqft_living >= 2000)\n",
        "GROUP BY YEAR_BUILT\n",
        "ORDER BY YEAR_BUILT\n",
        "\"\"\"\n",
        "spark.sql(query_3).show()"
      ],
      "metadata": {
        "id": "kcIODSX-MiqI",
        "colab": {
          "base_uri": "https://localhost:8080/"
        },
        "outputId": "e0ad5068-aefd-470c-a1db-5f367fe5f016"
      },
      "execution_count": 9,
      "outputs": [
        {
          "output_type": "stream",
          "name": "stdout",
          "text": [
            "+----------+---------+\n",
            "|YEAR_BUILT|avg_price|\n",
            "+----------+---------+\n",
            "|      2019|289859.14|\n",
            "|      2020|292289.09|\n",
            "|      2021|296330.96|\n",
            "|      2022|290242.99|\n",
            "+----------+---------+\n",
            "\n"
          ]
        }
      ]
    },
    {
      "cell_type": "code",
      "execution_count": 10,
      "metadata": {
        "id": "GUrfgOX1pCRd",
        "colab": {
          "base_uri": "https://localhost:8080/"
        },
        "outputId": "e874f6ac-9da3-4822-be28-00d1d093279a"
      },
      "outputs": [
        {
          "output_type": "stream",
          "name": "stdout",
          "text": [
            "+----+---------+\n",
            "|view|avg_price|\n",
            "+----+---------+\n",
            "|  51|788128.21|\n",
            "|  52|733780.26|\n",
            "|  53| 755214.8|\n",
            "|  54|798684.82|\n",
            "|  55|771153.32|\n",
            "|  56| 718176.4|\n",
            "|  57| 734340.5|\n",
            "|  58|759764.65|\n",
            "|  59| 791453.0|\n",
            "|  60|754939.65|\n",
            "|  61|746877.59|\n",
            "|  62|759150.14|\n",
            "|  63|711614.55|\n",
            "|  64|767036.67|\n",
            "|  65|736679.93|\n",
            "|  66| 712475.0|\n",
            "|  67|737970.96|\n",
            "|  68|716785.44|\n",
            "|  69|750537.94|\n",
            "|  70|695865.58|\n",
            "+----+---------+\n",
            "only showing top 20 rows\n",
            "\n",
            "--- 0.8297855854034424 seconds ---\n"
          ]
        }
      ],
      "source": [
        "# 6. What is the \"view\" rating for the average price of a home, rounded to two decimal places, where the homes are greater than\n",
        "# or equal to $350,000? Although this is a small dataset, determine the run time for this query.\n",
        "start_time = time.time()\n",
        "\n",
        "spark.sql(\"\"\"\n",
        "SELECT view, ROUND(AVG(price), 2) AS avg_price\n",
        "FROM home_sales\n",
        "GROUP BY view\n",
        "HAVING ROUND(AVG(price), 2) >= 350000\n",
        "ORDER BY view\n",
        "\"\"\").show()\n",
        "\n",
        "print(\"--- %s seconds ---\" % (time.time() - start_time))"
      ]
    },
    {
      "cell_type": "code",
      "execution_count": 11,
      "metadata": {
        "id": "KAhk3ZD2tFy8",
        "colab": {
          "base_uri": "https://localhost:8080/"
        },
        "outputId": "2cab81f2-9fda-486b-a676-705faf74539a"
      },
      "outputs": [
        {
          "output_type": "execute_result",
          "data": {
            "text/plain": [
              "DataFrame[]"
            ]
          },
          "metadata": {},
          "execution_count": 11
        }
      ],
      "source": [
        "# 7. Cache the temporary table home_sales.\n",
        "spark.sql(\"cache table home_sales\")"
      ]
    },
    {
      "cell_type": "code",
      "execution_count": 12,
      "metadata": {
        "id": "4opVhbvxtL-i",
        "colab": {
          "base_uri": "https://localhost:8080/"
        },
        "outputId": "397b1c6f-0e97-4b21-8b72-9e192af0b9c8"
      },
      "outputs": [
        {
          "output_type": "execute_result",
          "data": {
            "text/plain": [
              "True"
            ]
          },
          "metadata": {},
          "execution_count": 12
        }
      ],
      "source": [
        "# 8. Check if the table is cached.\n",
        "spark.catalog.isCached('home_sales')"
      ]
    },
    {
      "cell_type": "code",
      "execution_count": 13,
      "metadata": {
        "id": "5GnL46lwTSEk",
        "colab": {
          "base_uri": "https://localhost:8080/"
        },
        "outputId": "46b07c91-ca85-4e40-c823-c5b749109b67"
      },
      "outputs": [
        {
          "output_type": "stream",
          "name": "stdout",
          "text": [
            "+----+---------+\n",
            "|view|avg_price|\n",
            "+----+---------+\n",
            "|  51|788128.21|\n",
            "|  52|733780.26|\n",
            "|  53| 755214.8|\n",
            "|  54|798684.82|\n",
            "|  55|771153.32|\n",
            "|  56| 718176.4|\n",
            "|  57| 734340.5|\n",
            "|  58|759764.65|\n",
            "|  59| 791453.0|\n",
            "|  60|754939.65|\n",
            "|  61|746877.59|\n",
            "|  62|759150.14|\n",
            "|  63|711614.55|\n",
            "|  64|767036.67|\n",
            "|  65|736679.93|\n",
            "|  66| 712475.0|\n",
            "|  67|737970.96|\n",
            "|  68|716785.44|\n",
            "|  69|750537.94|\n",
            "|  70|695865.58|\n",
            "+----+---------+\n",
            "only showing top 20 rows\n",
            "\n",
            "--- 0.8877096176147461 seconds ---\n"
          ]
        }
      ],
      "source": [
        "# 9. Using the cached data, run the query that filters out the view ratings with average price\n",
        "#  greater than or equal to $350,000. Determine the runtime and compare it to uncached runtime.\n",
        "\n",
        "start_time = time.time()\n",
        "\n",
        "spark.sql(\"\"\"\n",
        "SELECT view, ROUND(AVG(price), 2) AS avg_price\n",
        "FROM home_sales\n",
        "GROUP BY view\n",
        "HAVING ROUND(AVG(price), 2) >= 350000\n",
        "ORDER BY view\n",
        "\"\"\").show()\n",
        "\n",
        "print(\"--- %s seconds ---\" % (time.time() - start_time))\n"
      ]
    },
    {
      "cell_type": "code",
      "source": [
        "# uncached data: 0.6731657981872559 seconds\n",
        "# cached data: 0.6522655487060547 seconds"
      ],
      "metadata": {
        "id": "VF8090Rlb3Nf"
      },
      "execution_count": 14,
      "outputs": []
    },
    {
      "cell_type": "code",
      "execution_count": 15,
      "metadata": {
        "id": "Qm12WN9isHBR"
      },
      "outputs": [],
      "source": [
        "# 10. Partition by the \"date_built\" field on the formatted parquet home sales data\n",
        "home_sales_df.write.parquet('parquet_home_sales', mode='overwrite')"
      ]
    },
    {
      "cell_type": "code",
      "execution_count": 16,
      "metadata": {
        "id": "AZ7BgY61sRqY"
      },
      "outputs": [],
      "source": [
        "# 11. Read the parquet formatted data.\n",
        "p_home_sales = spark.read.parquet('parquet_home_sales')"
      ]
    },
    {
      "cell_type": "code",
      "execution_count": 17,
      "metadata": {
        "id": "J6MJkHfvVcvh"
      },
      "outputs": [],
      "source": [
        "# 12. Create a temporary table for the parquet data.\n",
        "p_home_sales.createOrReplaceTempView('home_sales')"
      ]
    },
    {
      "cell_type": "code",
      "execution_count": 18,
      "metadata": {
        "id": "G_Vhb52rU1Sn",
        "colab": {
          "base_uri": "https://localhost:8080/"
        },
        "outputId": "70690d2b-e047-462d-ee50-dee4b14238b1"
      },
      "outputs": [
        {
          "output_type": "stream",
          "name": "stdout",
          "text": [
            "+----+---------+\n",
            "|view|avg_price|\n",
            "+----+---------+\n",
            "|  51|788128.21|\n",
            "|  52|733780.26|\n",
            "|  53| 755214.8|\n",
            "|  54|798684.82|\n",
            "|  55|771153.32|\n",
            "|  56| 718176.4|\n",
            "|  57| 734340.5|\n",
            "|  58|759764.65|\n",
            "|  59| 791453.0|\n",
            "|  60|754939.65|\n",
            "|  61|746877.59|\n",
            "|  62|759150.14|\n",
            "|  63|711614.55|\n",
            "|  64|767036.67|\n",
            "|  65|736679.93|\n",
            "|  66| 712475.0|\n",
            "|  67|737970.96|\n",
            "|  68|716785.44|\n",
            "|  69|750537.94|\n",
            "|  70|695865.58|\n",
            "+----+---------+\n",
            "only showing top 20 rows\n",
            "\n",
            "--- 0.6840918064117432 seconds ---\n"
          ]
        }
      ],
      "source": [
        "# 13. Run the query that filters out the view ratings with average price of greater than or equal to $350,000\n",
        "# with the parquet DataFrame. Round your average to two decimal places.\n",
        "# Determine the runtime and compare it to the cached version.\n",
        "start_time = time.time()\n",
        "\n",
        "spark.sql(\"\"\"\n",
        "SELECT view, ROUND(AVG(price), 2) AS avg_price\n",
        "FROM home_sales\n",
        "GROUP BY view\n",
        "HAVING ROUND(AVG(price), 2) >= 350000\n",
        "ORDER BY view\n",
        "\"\"\").show()\n",
        "\n",
        "print(\"--- %s seconds ---\" % (time.time() - start_time))"
      ]
    },
    {
      "cell_type": "code",
      "source": [
        "# uncached data: 0.6644017696380615 seconds\n",
        "# partitioned data: 0.5540437698364258 seconds"
      ],
      "metadata": {
        "id": "ndAShvmTgzDr"
      },
      "execution_count": 19,
      "outputs": []
    },
    {
      "cell_type": "code",
      "execution_count": 20,
      "metadata": {
        "id": "hjjYzQGjtbq8",
        "colab": {
          "base_uri": "https://localhost:8080/"
        },
        "outputId": "0facb8fa-c948-4fcc-bc04-81c890aa5d62"
      },
      "outputs": [
        {
          "output_type": "execute_result",
          "data": {
            "text/plain": [
              "DataFrame[]"
            ]
          },
          "metadata": {},
          "execution_count": 20
        }
      ],
      "source": [
        "# 14. Uncache the home_sales temporary table.\n",
        "spark.sql(\"uncache table home_sales\")"
      ]
    },
    {
      "cell_type": "code",
      "execution_count": 21,
      "metadata": {
        "id": "Sy9NBvO7tlmm",
        "colab": {
          "base_uri": "https://localhost:8080/"
        },
        "outputId": "b7a4739c-8f4d-45b6-9853-805f6d710126"
      },
      "outputs": [
        {
          "output_type": "execute_result",
          "data": {
            "text/plain": [
              "False"
            ]
          },
          "metadata": {},
          "execution_count": 21
        }
      ],
      "source": [
        "# 15. Check if the home_sales is no longer cached\n",
        "spark.catalog.isCached(\"home_sales\")\n"
      ]
    }
  ],
  "metadata": {
    "colab": {
      "provenance": []
    },
    "gpuClass": "standard",
    "kernelspec": {
      "display_name": "Python 3 (ipykernel)",
      "language": "python",
      "name": "python3"
    },
    "language_info": {
      "codemirror_mode": {
        "name": "ipython",
        "version": 3
      },
      "file_extension": ".py",
      "mimetype": "text/x-python",
      "name": "python",
      "nbconvert_exporter": "python",
      "pygments_lexer": "ipython3",
      "version": "3.10.4"
    },
    "nteract": {
      "version": "0.28.0"
    }
  },
  "nbformat": 4,
  "nbformat_minor": 0
}